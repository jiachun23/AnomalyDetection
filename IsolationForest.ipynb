{
  "nbformat": 4,
  "nbformat_minor": 0,
  "metadata": {
    "colab": {
      "name": "IsolationForest.ipynb",
      "provenance": [],
      "authorship_tag": "ABX9TyPk7UqsE2cuLHW+WWOxtQ/n",
      "include_colab_link": true
    },
    "kernelspec": {
      "name": "python3",
      "display_name": "Python 3"
    },
    "language_info": {
      "name": "python"
    },
    "accelerator": "GPU"
  },
  "cells": [
    {
      "cell_type": "markdown",
      "metadata": {
        "id": "view-in-github",
        "colab_type": "text"
      },
      "source": [
        "<a href=\"https://colab.research.google.com/github/jiachun23/AnomalyDetection/blob/main/IsolationForest.ipynb\" target=\"_parent\"><img src=\"https://colab.research.google.com/assets/colab-badge.svg\" alt=\"Open In Colab\"/></a>"
      ]
    },
    {
      "cell_type": "code",
      "metadata": {
        "id": "P1PQiyt8_pUR"
      },
      "source": [
        "import numpy as np\n",
        "import pandas as pd\n",
        "import seaborn as sns\n",
        "import matplotlib.pyplot as plt\n",
        "from sklearn.ensemble import IsolationForest"
      ],
      "execution_count": 4,
      "outputs": []
    },
    {
      "cell_type": "code",
      "metadata": {
        "colab": {
          "base_uri": "https://localhost:8080/"
        },
        "id": "Vg96VwDz_7bp",
        "outputId": "2b0bfb32-209c-4f54-b996-d459df50ea51"
      },
      "source": [
        "df = pd.read_csv('student_cgpa.csv')\n",
        "df.head(10)\n",
        "len(df)"
      ],
      "execution_count": 97,
      "outputs": [
        {
          "output_type": "execute_result",
          "data": {
            "text/plain": [
              "1000"
            ]
          },
          "metadata": {},
          "execution_count": 97
        }
      ]
    },
    {
      "cell_type": "code",
      "metadata": {
        "colab": {
          "base_uri": "https://localhost:8080/"
        },
        "id": "HWb-bTwYACNf",
        "outputId": "2138220f-0a11-45e1-833f-1b5a3f964e02"
      },
      "source": [
        "model=IsolationForest(n_estimators=100, max_samples='auto', contamination=float(0.03),max_features=1.0)\n",
        "model.fit(df[['cgpa']])"
      ],
      "execution_count": 98,
      "outputs": [
        {
          "output_type": "execute_result",
          "data": {
            "text/plain": [
              "IsolationForest(behaviour='deprecated', bootstrap=False, contamination=0.03,\n",
              "                max_features=1.0, max_samples='auto', n_estimators=100,\n",
              "                n_jobs=None, random_state=None, verbose=0, warm_start=False)"
            ]
          },
          "metadata": {},
          "execution_count": 98
        }
      ]
    },
    {
      "cell_type": "code",
      "metadata": {
        "colab": {
          "base_uri": "https://localhost:8080/",
          "height": 979
        },
        "id": "DxuLq4VEAJTN",
        "outputId": "8c5234d5-86eb-4dd8-9c3d-be8026b2723e"
      },
      "source": [
        "df['anomaly_score']=model.decision_function(df[['cgpa']])\n",
        "df['is_anomaly']=model.predict(df[['cgpa']])\n",
        "df[df['is_anomaly']==-1]\n"
      ],
      "execution_count": 99,
      "outputs": [
        {
          "output_type": "execute_result",
          "data": {
            "text/html": [
              "<div>\n",
              "<style scoped>\n",
              "    .dataframe tbody tr th:only-of-type {\n",
              "        vertical-align: middle;\n",
              "    }\n",
              "\n",
              "    .dataframe tbody tr th {\n",
              "        vertical-align: top;\n",
              "    }\n",
              "\n",
              "    .dataframe thead th {\n",
              "        text-align: right;\n",
              "    }\n",
              "</style>\n",
              "<table border=\"1\" class=\"dataframe\">\n",
              "  <thead>\n",
              "    <tr style=\"text-align: right;\">\n",
              "      <th></th>\n",
              "      <th>id</th>\n",
              "      <th>cgpa</th>\n",
              "      <th>anomaly_score</th>\n",
              "      <th>is_anomaly</th>\n",
              "    </tr>\n",
              "  </thead>\n",
              "  <tbody>\n",
              "    <tr>\n",
              "      <th>17</th>\n",
              "      <td>18</td>\n",
              "      <td>3.976283</td>\n",
              "      <td>-0.034235</td>\n",
              "      <td>-1</td>\n",
              "    </tr>\n",
              "    <tr>\n",
              "      <th>41</th>\n",
              "      <td>42</td>\n",
              "      <td>3.986627</td>\n",
              "      <td>-0.048578</td>\n",
              "      <td>-1</td>\n",
              "    </tr>\n",
              "    <tr>\n",
              "      <th>66</th>\n",
              "      <td>67</td>\n",
              "      <td>1.500466</td>\n",
              "      <td>-0.033373</td>\n",
              "      <td>-1</td>\n",
              "    </tr>\n",
              "    <tr>\n",
              "      <th>75</th>\n",
              "      <td>76</td>\n",
              "      <td>3.959749</td>\n",
              "      <td>-0.003917</td>\n",
              "      <td>-1</td>\n",
              "    </tr>\n",
              "    <tr>\n",
              "      <th>80</th>\n",
              "      <td>81</td>\n",
              "      <td>3.966084</td>\n",
              "      <td>-0.012506</td>\n",
              "      <td>-1</td>\n",
              "    </tr>\n",
              "    <tr>\n",
              "      <th>127</th>\n",
              "      <td>128</td>\n",
              "      <td>3.990897</td>\n",
              "      <td>-0.054016</td>\n",
              "      <td>-1</td>\n",
              "    </tr>\n",
              "    <tr>\n",
              "      <th>182</th>\n",
              "      <td>183</td>\n",
              "      <td>3.961790</td>\n",
              "      <td>-0.006604</td>\n",
              "      <td>-1</td>\n",
              "    </tr>\n",
              "    <tr>\n",
              "      <th>215</th>\n",
              "      <td>216</td>\n",
              "      <td>1.506694</td>\n",
              "      <td>-0.029436</td>\n",
              "      <td>-1</td>\n",
              "    </tr>\n",
              "    <tr>\n",
              "      <th>238</th>\n",
              "      <td>239</td>\n",
              "      <td>1.501306</td>\n",
              "      <td>-0.030804</td>\n",
              "      <td>-1</td>\n",
              "    </tr>\n",
              "    <tr>\n",
              "      <th>247</th>\n",
              "      <td>248</td>\n",
              "      <td>3.991880</td>\n",
              "      <td>-0.053573</td>\n",
              "      <td>-1</td>\n",
              "    </tr>\n",
              "    <tr>\n",
              "      <th>269</th>\n",
              "      <td>270</td>\n",
              "      <td>3.994556</td>\n",
              "      <td>-0.060578</td>\n",
              "      <td>-1</td>\n",
              "    </tr>\n",
              "    <tr>\n",
              "      <th>343</th>\n",
              "      <td>344</td>\n",
              "      <td>1.501622</td>\n",
              "      <td>-0.029951</td>\n",
              "      <td>-1</td>\n",
              "    </tr>\n",
              "    <tr>\n",
              "      <th>427</th>\n",
              "      <td>428</td>\n",
              "      <td>1.502714</td>\n",
              "      <td>-0.029951</td>\n",
              "      <td>-1</td>\n",
              "    </tr>\n",
              "    <tr>\n",
              "      <th>516</th>\n",
              "      <td>517</td>\n",
              "      <td>1.528051</td>\n",
              "      <td>-0.000631</td>\n",
              "      <td>-1</td>\n",
              "    </tr>\n",
              "    <tr>\n",
              "      <th>542</th>\n",
              "      <td>543</td>\n",
              "      <td>3.975736</td>\n",
              "      <td>-0.030580</td>\n",
              "      <td>-1</td>\n",
              "    </tr>\n",
              "    <tr>\n",
              "      <th>567</th>\n",
              "      <td>568</td>\n",
              "      <td>3.993616</td>\n",
              "      <td>-0.059238</td>\n",
              "      <td>-1</td>\n",
              "    </tr>\n",
              "    <tr>\n",
              "      <th>569</th>\n",
              "      <td>570</td>\n",
              "      <td>1.504174</td>\n",
              "      <td>-0.029524</td>\n",
              "      <td>-1</td>\n",
              "    </tr>\n",
              "    <tr>\n",
              "      <th>571</th>\n",
              "      <td>572</td>\n",
              "      <td>3.971110</td>\n",
              "      <td>-0.018209</td>\n",
              "      <td>-1</td>\n",
              "    </tr>\n",
              "    <tr>\n",
              "      <th>593</th>\n",
              "      <td>594</td>\n",
              "      <td>1.509621</td>\n",
              "      <td>-0.022652</td>\n",
              "      <td>-1</td>\n",
              "    </tr>\n",
              "    <tr>\n",
              "      <th>703</th>\n",
              "      <td>704</td>\n",
              "      <td>3.965316</td>\n",
              "      <td>-0.009900</td>\n",
              "      <td>-1</td>\n",
              "    </tr>\n",
              "    <tr>\n",
              "      <th>716</th>\n",
              "      <td>717</td>\n",
              "      <td>1.511154</td>\n",
              "      <td>-0.023074</td>\n",
              "      <td>-1</td>\n",
              "    </tr>\n",
              "    <tr>\n",
              "      <th>731</th>\n",
              "      <td>732</td>\n",
              "      <td>3.979390</td>\n",
              "      <td>-0.035844</td>\n",
              "      <td>-1</td>\n",
              "    </tr>\n",
              "    <tr>\n",
              "      <th>836</th>\n",
              "      <td>837</td>\n",
              "      <td>1.525033</td>\n",
              "      <td>-0.000978</td>\n",
              "      <td>-1</td>\n",
              "    </tr>\n",
              "    <tr>\n",
              "      <th>868</th>\n",
              "      <td>869</td>\n",
              "      <td>1.514238</td>\n",
              "      <td>-0.017341</td>\n",
              "      <td>-1</td>\n",
              "    </tr>\n",
              "    <tr>\n",
              "      <th>879</th>\n",
              "      <td>880</td>\n",
              "      <td>1.502762</td>\n",
              "      <td>-0.029524</td>\n",
              "      <td>-1</td>\n",
              "    </tr>\n",
              "    <tr>\n",
              "      <th>885</th>\n",
              "      <td>886</td>\n",
              "      <td>3.962133</td>\n",
              "      <td>-0.006604</td>\n",
              "      <td>-1</td>\n",
              "    </tr>\n",
              "    <tr>\n",
              "      <th>906</th>\n",
              "      <td>907</td>\n",
              "      <td>1.523778</td>\n",
              "      <td>-0.003033</td>\n",
              "      <td>-1</td>\n",
              "    </tr>\n",
              "    <tr>\n",
              "      <th>955</th>\n",
              "      <td>956</td>\n",
              "      <td>3.991354</td>\n",
              "      <td>-0.053130</td>\n",
              "      <td>-1</td>\n",
              "    </tr>\n",
              "    <tr>\n",
              "      <th>991</th>\n",
              "      <td>992</td>\n",
              "      <td>3.979841</td>\n",
              "      <td>-0.036275</td>\n",
              "      <td>-1</td>\n",
              "    </tr>\n",
              "    <tr>\n",
              "      <th>996</th>\n",
              "      <td>997</td>\n",
              "      <td>3.999865</td>\n",
              "      <td>-0.068774</td>\n",
              "      <td>-1</td>\n",
              "    </tr>\n",
              "  </tbody>\n",
              "</table>\n",
              "</div>"
            ],
            "text/plain": [
              "      id      cgpa  anomaly_score  is_anomaly\n",
              "17    18  3.976283      -0.034235          -1\n",
              "41    42  3.986627      -0.048578          -1\n",
              "66    67  1.500466      -0.033373          -1\n",
              "75    76  3.959749      -0.003917          -1\n",
              "80    81  3.966084      -0.012506          -1\n",
              "127  128  3.990897      -0.054016          -1\n",
              "182  183  3.961790      -0.006604          -1\n",
              "215  216  1.506694      -0.029436          -1\n",
              "238  239  1.501306      -0.030804          -1\n",
              "247  248  3.991880      -0.053573          -1\n",
              "269  270  3.994556      -0.060578          -1\n",
              "343  344  1.501622      -0.029951          -1\n",
              "427  428  1.502714      -0.029951          -1\n",
              "516  517  1.528051      -0.000631          -1\n",
              "542  543  3.975736      -0.030580          -1\n",
              "567  568  3.993616      -0.059238          -1\n",
              "569  570  1.504174      -0.029524          -1\n",
              "571  572  3.971110      -0.018209          -1\n",
              "593  594  1.509621      -0.022652          -1\n",
              "703  704  3.965316      -0.009900          -1\n",
              "716  717  1.511154      -0.023074          -1\n",
              "731  732  3.979390      -0.035844          -1\n",
              "836  837  1.525033      -0.000978          -1\n",
              "868  869  1.514238      -0.017341          -1\n",
              "879  880  1.502762      -0.029524          -1\n",
              "885  886  3.962133      -0.006604          -1\n",
              "906  907  1.523778      -0.003033          -1\n",
              "955  956  3.991354      -0.053130          -1\n",
              "991  992  3.979841      -0.036275          -1\n",
              "996  997  3.999865      -0.068774          -1"
            ]
          },
          "metadata": {},
          "execution_count": 99
        }
      ]
    },
    {
      "cell_type": "code",
      "metadata": {
        "colab": {
          "base_uri": "https://localhost:8080/"
        },
        "id": "sgM7GCXQAT9m",
        "outputId": "bbb21c72-9df2-4d84-aa9e-1f2ce39c671f"
      },
      "source": [
        "anomaly=df.loc[df['is_anomaly']==-1]\n",
        "anomaly_index=list(anomaly.index)\n",
        "anomaly_count = len(anomaly)\n",
        "print(anomaly_count)\n"
      ],
      "execution_count": 122,
      "outputs": [
        {
          "output_type": "stream",
          "name": "stdout",
          "text": [
            "30\n"
          ]
        }
      ]
    },
    {
      "cell_type": "code",
      "metadata": {
        "colab": {
          "base_uri": "https://localhost:8080/"
        },
        "id": "X7LiWjynAdte",
        "outputId": "2d20dd08-1a76-46ea-a1e5-1ef7a2e823bc"
      },
      "source": [
        "#Calculate accuracy based on anomaly in dataset and found anomaly in data\n",
        "print(\"Model accuracy:\", 100*list(df['is_anomaly']).count(-1)/(anomaly_count))\n",
        "\n"
      ],
      "execution_count": 123,
      "outputs": [
        {
          "output_type": "stream",
          "name": "stdout",
          "text": [
            "Model accuracy: 100.0\n"
          ]
        }
      ]
    },
    {
      "cell_type": "code",
      "metadata": {
        "colab": {
          "base_uri": "https://localhost:8080/"
        },
        "id": "qnuIBId5Wvzg",
        "outputId": "5f9a1418-460d-40d5-bf3f-90b92b76650b"
      },
      "source": [
        "#find out the low performer group in the anomaly detection \n",
        "anomaly_low = anomaly.loc[anomaly['cgpa'] < 2.1]\n",
        "print(\"Low performer group: \", len(anomaly_low))"
      ],
      "execution_count": 125,
      "outputs": [
        {
          "output_type": "stream",
          "name": "stdout",
          "text": [
            "Low performer group:  18\n"
          ]
        }
      ]
    },
    {
      "cell_type": "code",
      "metadata": {
        "id": "dP-pAGgDXOO7"
      },
      "source": [
        ""
      ],
      "execution_count": null,
      "outputs": []
    }
  ]
}